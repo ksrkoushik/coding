{
 "cells": [
  {
   "cell_type": "code",
   "execution_count": 6,
   "id": "55a48312-9306-41d6-980a-dea6a052592c",
   "metadata": {},
   "outputs": [],
   "source": [
    "import sys\n",
    "import keyword\n",
    "import operator\n",
    "from datetime import datetime\n",
    "import os"
   ]
  },
  {
   "cell_type": "markdown",
   "id": "0e6f911d-a78e-48d3-b6ae-c1cdf9d03de7",
   "metadata": {},
   "source": [
    "## Keywords"
   ]
  },
  {
   "cell_type": "markdown",
   "id": "ad17f283-6d88-48ee-8ca5-687db79f11f8",
   "metadata": {},
   "source": [
    "### Keywords are reserved words in python and can't be used as an identifier"
   ]
  },
  {
   "cell_type": "code",
   "execution_count": 11,
   "id": "806921ae-a977-484e-8660-6be1fa24e5e7",
   "metadata": {},
   "outputs": [
    {
     "name": "stdout",
     "output_type": "stream",
     "text": [
      "['False', 'None', 'True', 'and', 'as', 'assert', 'async', 'await', 'break', 'class', 'continue', 'def', 'del', 'elif', 'else', 'except', 'finally', 'for', 'from', 'global', 'if', 'import', 'in', 'is', 'lambda', 'nonlocal', 'not', 'or', 'pass', 'raise', 'return', 'try', 'while', 'with', 'yield']\n"
     ]
    }
   ],
   "source": [
    "print(keyword.kwlist) # List all python keywords"
   ]
  },
  {
   "cell_type": "code",
   "execution_count": 12,
   "id": "72e3f1c4-1768-40f2-a710-f5205bcc0e15",
   "metadata": {},
   "outputs": [
    {
     "data": {
      "text/plain": [
       "35"
      ]
     },
     "execution_count": 12,
     "metadata": {},
     "output_type": "execute_result"
    }
   ],
   "source": [
    "len(keyword.kwlist)"
   ]
  },
  {
   "cell_type": "code",
   "execution_count": 1,
   "id": "6f2401e9-3584-4019-8b55-4cde34110876",
   "metadata": {},
   "outputs": [
    {
     "ename": "SyntaxError",
     "evalue": "invalid decimal literal (4256868957.py, line 1)",
     "output_type": "error",
     "traceback": [
      "\u001b[0;36m  Cell \u001b[0;32mIn[1], line 1\u001b[0;36m\u001b[0m\n\u001b[0;31m    1var = 10\u001b[0m\n\u001b[0m    ^\u001b[0m\n\u001b[0;31mSyntaxError\u001b[0m\u001b[0;31m:\u001b[0m invalid decimal literal\n"
     ]
    }
   ],
   "source": [
    "1var = 10"
   ]
  },
  {
   "cell_type": "code",
   "execution_count": 2,
   "id": "0223cfab-d619-4484-8e67-5206d781ac3f",
   "metadata": {},
   "outputs": [
    {
     "ename": "SyntaxError",
     "evalue": "invalid syntax (3636076842.py, line 1)",
     "output_type": "error",
     "traceback": [
      "\u001b[0;36m  Cell \u001b[0;32mIn[2], line 1\u001b[0;36m\u001b[0m\n\u001b[0;31m    val2@ = 35\u001b[0m\n\u001b[0m          ^\u001b[0m\n\u001b[0;31mSyntaxError\u001b[0m\u001b[0;31m:\u001b[0m invalid syntax\n"
     ]
    }
   ],
   "source": [
    "val2@ = 35"
   ]
  },
  {
   "cell_type": "code",
   "execution_count": 3,
   "id": "efa96588-016b-43b9-b4b6-cc54edc6c891",
   "metadata": {},
   "outputs": [
    {
     "ename": "SyntaxError",
     "evalue": "invalid syntax (2736324093.py, line 1)",
     "output_type": "error",
     "traceback": [
      "\u001b[0;36m  Cell \u001b[0;32mIn[3], line 1\u001b[0;36m\u001b[0m\n\u001b[0;31m    import = 25\u001b[0m\n\u001b[0m           ^\u001b[0m\n\u001b[0;31mSyntaxError\u001b[0m\u001b[0;31m:\u001b[0m invalid syntax\n"
     ]
    }
   ],
   "source": [
    "import = 25"
   ]
  },
  {
   "cell_type": "code",
   "execution_count": 4,
   "id": "7a494302-77f5-46d5-adb4-01d104f2b03d",
   "metadata": {},
   "outputs": [],
   "source": [
    "val2 = 10"
   ]
  },
  {
   "cell_type": "code",
   "execution_count": 5,
   "id": "3746d9f5-7e90-460e-b9eb-305a710b78d2",
   "metadata": {},
   "outputs": [],
   "source": [
    "val_ = 99"
   ]
  },
  {
   "cell_type": "code",
   "execution_count": 9,
   "id": "486a1ea1-14e7-4e30-aed0-d8c9cdcde783",
   "metadata": {},
   "outputs": [],
   "source": [
    "p1 = 20 + 30 \\\n",
    "+ 40 + 50 \\\n",
    "+ 70 + 80 \\\n",
    "+ 90 + 87"
   ]
  },
  {
   "cell_type": "code",
   "execution_count": 10,
   "id": "270925c9-5b4d-4098-aed8-bbb57abcec6c",
   "metadata": {},
   "outputs": [
    {
     "name": "stdout",
     "output_type": "stream",
     "text": [
      "467\n"
     ]
    }
   ],
   "source": [
    "print(p1)"
   ]
  },
  {
   "cell_type": "code",
   "execution_count": 11,
   "id": "864e992b-eef6-47b6-9e5f-1f3e93e469f6",
   "metadata": {},
   "outputs": [],
   "source": [
    "p2 = [\"vish\", \"dhruv\", \"ram\", \"sri\"]"
   ]
  },
  {
   "cell_type": "code",
   "execution_count": 23,
   "id": "06340fc3-f72b-4621-8db6-b142d3d3aa30",
   "metadata": {},
   "outputs": [
    {
     "name": "stdout",
     "output_type": "stream",
     "text": [
      "vish\n",
      "dhruv\n",
      "ram\n"
     ]
    }
   ],
   "source": [
    "for i in p2:\n",
    "    print(i)\n",
    "    if i == \"ram\":\n",
    "        break"
   ]
  },
  {
   "cell_type": "code",
   "execution_count": 21,
   "id": "1828ef91-f35d-4242-a7b2-00006c69b3b7",
   "metadata": {},
   "outputs": [
    {
     "name": "stdout",
     "output_type": "stream",
     "text": [
      "0\n",
      "1\n",
      "2\n",
      "3\n",
      "4\n",
      "5\n",
      "6\n",
      "7\n",
      "8\n"
     ]
    }
   ],
   "source": [
    "for i in range(10):\n",
    "    print(i)\n",
    "    if i == 8:\n",
    "        break"
   ]
  },
  {
   "cell_type": "code",
   "execution_count": null,
   "id": "59ee8cd8-a761-46bb-9b5f-fb00448459e6",
   "metadata": {},
   "outputs": [],
   "source": []
  }
 ],
 "metadata": {
  "kernelspec": {
   "display_name": "Python 3 (ipykernel)",
   "language": "python",
   "name": "python3"
  },
  "language_info": {
   "codemirror_mode": {
    "name": "ipython",
    "version": 3
   },
   "file_extension": ".py",
   "mimetype": "text/x-python",
   "name": "python",
   "nbconvert_exporter": "python",
   "pygments_lexer": "ipython3",
   "version": "3.10.12"
  }
 },
 "nbformat": 4,
 "nbformat_minor": 5
}
